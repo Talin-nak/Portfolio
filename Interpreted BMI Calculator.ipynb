{
 "cells": [
  {
   "cell_type": "markdown",
   "source": [
    "\n",
    "Interpreted BMI Calculator"
   ],
   "metadata": {
    "collapsed": false,
    "pycharm": {
     "name": "#%% md\n"
    }
   }
  },
  {
   "cell_type": "code",
   "execution_count": 1,
   "outputs": [
    {
     "name": "stdout",
     "output_type": "stream",
     "text": [
      "Your BMI is 22.857142857142858, you have a normal weight.\n"
     ]
    }
   ],
   "source": [
    "height = float(input(\"Please enter your height in M \"))\n",
    "weight = int(input(\"Please enter your weight in kg \"))\n",
    "\n",
    "BMI = weight/ float(height)**2\n",
    "\n",
    "\n",
    "if BMI < 18.5:\n",
    "  print(f\"Your BMI is {BMI}, you are underweight.\")\n",
    "elif BMI < 25:\n",
    "  print(f\"Your BMI is {BMI}, you have a normal weight.\")\n",
    "\n",
    "elif BMI < 30:\n",
    "  print(f\"Your BMI is {BMI}, you are slightly overweight.\")\n",
    "\n",
    "elif BMI < 35:\n",
    "  print(f\"Your BMI is {BMI}, you are obese.\")\n",
    "\n",
    "else:\n",
    "  print(f\"Your BMI is {BMI}, you are clinically obese.\")"
   ],
   "metadata": {
    "collapsed": false,
    "pycharm": {
     "name": "#%%\n"
    }
   }
  },
  {
   "cell_type": "code",
   "execution_count": null,
   "outputs": [],
   "source": [],
   "metadata": {
    "collapsed": false,
    "pycharm": {
     "name": "#%%\n"
    }
   }
  }
 ],
 "metadata": {
  "kernelspec": {
   "display_name": "Python 3",
   "language": "python",
   "name": "python3"
  },
  "language_info": {
   "codemirror_mode": {
    "name": "ipython",
    "version": 2
   },
   "file_extension": ".py",
   "mimetype": "text/x-python",
   "name": "python",
   "nbconvert_exporter": "python",
   "pygments_lexer": "ipython2",
   "version": "2.7.6"
  }
 },
 "nbformat": 4,
 "nbformat_minor": 0
}