{
 "cells": [
  {
   "cell_type": "markdown",
   "id": "8d3b8908",
   "metadata": {},
   "source": [
    "# Rollercoaster tickets"
   ]
  },
  {
   "cell_type": "code",
   "execution_count": null,
   "id": "9617dcd8",
   "metadata": {},
   "outputs": [],
   "source": [
    "print(\"Welcome to the rollercoaster!\")\n",
    "height = int(input(\"What is your height in cm? \"))\n",
    "bill = 0\n",
    "\n",
    "if height >= 120:\n",
    "  print(\"You can ride the rollercoaster\")\n",
    "  age = int(input(\"What is your age? \"))\n",
    "  if age < 12:\n",
    "    bill = 5\n",
    "    print(\"Child tickets cost 5$\")\n",
    "  elif age <= 18:\n",
    "    bill = 7\n",
    "    print(\"Youth tickets cost 7$\")\n",
    "  elif age >= 45 and age <= 55:\n",
    "    print(\"Your ticket is 0$\")\n",
    "\n",
    "  else:\n",
    "    bill = 12\n",
    "    print(\"Adult tickets cost 12$\")\n",
    "\n",
    "  photo = input(\"Do you want a photo taken? Y or N \")\n",
    "\n",
    "  if photo == \"Y\":\n",
    "    bill += 3\n",
    "  print(f\"Your total bill is {bill}$\")\n",
    "\n",
    "else:\n",
    "  print(\"Sorry, you have to grow taller before you can ride.\")"
   ]
  }
 ],
 "metadata": {
  "kernelspec": {
   "display_name": "Python 3 (ipykernel)",
   "language": "python",
   "name": "python3"
  },
  "language_info": {
   "codemirror_mode": {
    "name": "ipython",
    "version": 3
   },
   "file_extension": ".py",
   "mimetype": "text/x-python",
   "name": "python",
   "nbconvert_exporter": "python",
   "pygments_lexer": "ipython3",
   "version": "3.8.18"
  }
 },
 "nbformat": 4,
 "nbformat_minor": 5
}
