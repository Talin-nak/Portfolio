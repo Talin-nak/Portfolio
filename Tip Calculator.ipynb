{
 "cells": [
  {
   "cell_type": "markdown",
   "id": "be6c054d",
   "metadata": {},
   "source": [
    "# Tip Calculator "
   ]
  },
  {
   "cell_type": "code",
   "execution_count": null,
   "id": "7f12b222",
   "metadata": {},
   "outputs": [],
   "source": [
    "print(\"Welcome to the tip calculator.\")\n",
    "bill = float(input(\"What was the total bill? $\"))\n",
    "tip = int(input(\"What percentage tip would you like to give? 10%, 12%, or 15%? \"))\n",
    "people = int(input(\"How many people to split the bill? \"))\n",
    "\n",
    "tip_as_percent = tip / 100\n",
    "total_tip = bill * tip_as_percent\n",
    "total_bill = bill + total_tip\n",
    "total_per_person = total_bill / people\n",
    "\n",
    "print(f\"Each person should pay: ${total_per_person:.2f}\")\n"
   ]
  }
 ],
 "metadata": {
  "kernelspec": {
   "display_name": "Python 3 (ipykernel)",
   "language": "python",
   "name": "python3"
  },
  "language_info": {
   "codemirror_mode": {
    "name": "ipython",
    "version": 3
   },
   "file_extension": ".py",
   "mimetype": "text/x-python",
   "name": "python",
   "nbconvert_exporter": "python",
   "pygments_lexer": "ipython3",
   "version": "3.8.18"
  }
 },
 "nbformat": 4,
 "nbformat_minor": 5
}
