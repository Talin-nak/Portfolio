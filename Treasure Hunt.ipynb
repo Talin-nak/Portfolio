{
 "cells": [
  {
   "cell_type": "markdown",
   "id": "e28d653d",
   "metadata": {},
   "source": [
    "# Treasure Hunt"
   ]
  },
  {
   "cell_type": "code",
   "execution_count": null,
   "id": "8d1b0e76",
   "metadata": {},
   "outputs": [],
   "source": [
    "print('''\n",
    "*******************************************************************************\n",
    "          |                   |                  |                     |\n",
    " _________|________________.=\"\"_;=.______________|_____________________|_______\n",
    "|                   |  ,-\"_,=\"\"     `\"=.|                  |\n",
    "|___________________|__\"=._o`\"-._        `\"=.______________|___________________\n",
    "          |                `\"=._o`\"=._      _`\"=._                     |\n",
    " _________|_____________________:=._o \"=._.\"_.-=\"'\"=.__________________|_______\n",
    "|                   |    __.--\" , ; `\"=._o.\" ,-\"\"\"-._ \".   |\n",
    "|___________________|_._\"  ,. .` ` `` ,  `\"-._\"-._   \". '__|___________________\n",
    "          |           |o`\"=._` , \"` `; .\". ,  \"-._\"-._; ;              |\n",
    " _________|___________| ;`-.o`\"=._; .\" ` '`.\"\\` . \"-._ /_______________|_______\n",
    "|                   | |o;    `\"-.o`\"=._``  '` \" ,__.--o;   |\n",
    "|___________________|_| ;     (#) `-.o `\"=.`_.--\"_o.-; ;___|___________________\n",
    "____/______/______/___|o;._    \"      `\".o|o_.--\"    ;o;____/______/______/____\n",
    "/______/______/______/_\"=._o--._        ; | ;        ; ;/______/______/______/_\n",
    "____/______/______/______/__\"=._o--._   ;o|o;     _._;o;____/______/______/____\n",
    "/______/______/______/______/____\"=._o._; | ;_.--\"o.--\"_/______/______/______/_\n",
    "____/______/______/______/______/_____\"=.o|o_.--\"\"___/______/______/______/____\n",
    "/______/______/______/______/______/______/______/______/______/______/_____ /\n",
    "*******************************************************************************\n",
    "''')\n",
    "print(\"Welcome to Treasure Island.\")\n",
    "print(\"Your mission is to find the treasure.\")\n",
    "\n",
    "#https://www.draw.io/?lightbox=1&highlight=0000ff&edit=_blank&layers=1&nav=1&title=Treasure%20Island%20Conditional.drawio#Uhttps%3A%2F%2Fdrive.google.com%2Fuc%3Fid%3D1oDe4ehjWZipYRsVfeAx2HyB7LCQ8_Fvi%26export%3Ddownload\n",
    "\n",
    "#Write your code below this line 👇\n",
    "\n",
    "direction = input(\"You're at a crossroad. Where do you want to go? left or right? \").lower()\n",
    "\n",
    "if direction == \"left\":\n",
    "  action = input(\"You've come to a lake. There is an island in the middle of the lake. swim or wait? \").lower()\n",
    "  if action == \"wait\":\n",
    "    color = input(\"You arrive at the island unharmed. There is a house with 3 doors. One red, one yellow, and one blue. which door do you choose? \").lower()\n",
    "    if color == \"red\":\n",
    "      print(\"You were burned by a fire! Game over :(\")\n",
    "    elif color == \"blue\":\n",
    "      print(\"You were eaten by beasts! Game over :(\")\n",
    "    elif color == \"yellow\":\n",
    "      print(\"You Win!!\")\n",
    "    else:\n",
    "      print(\"Game Over!\")\n",
    "  else:\n",
    "    print(\"You were attacked by a shark! Game over :(\")\n",
    "else:\n",
    "  print(\"You fell into a hole. Game Over :(\")\n"
   ]
  }
 ],
 "metadata": {
  "kernelspec": {
   "display_name": "Python 3 (ipykernel)",
   "language": "python",
   "name": "python3"
  },
  "language_info": {
   "codemirror_mode": {
    "name": "ipython",
    "version": 3
   },
   "file_extension": ".py",
   "mimetype": "text/x-python",
   "name": "python",
   "nbconvert_exporter": "python",
   "pygments_lexer": "ipython3",
   "version": "3.8.18"
  }
 },
 "nbformat": 4,
 "nbformat_minor": 5
}
